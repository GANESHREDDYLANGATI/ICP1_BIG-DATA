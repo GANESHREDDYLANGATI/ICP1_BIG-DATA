{
  "nbformat": 4,
  "nbformat_minor": 0,
  "metadata": {
    "colab": {
      "provenance": [],
      "authorship_tag": "ABX9TyN2O2gsmC+q90wsbC6PvQtL",
      "include_colab_link": true
    },
    "kernelspec": {
      "name": "python3",
      "display_name": "Python 3"
    },
    "language_info": {
      "name": "python"
    }
  },
  "cells": [
    {
      "cell_type": "markdown",
      "metadata": {
        "id": "view-in-github",
        "colab_type": "text"
      },
      "source": [
        "<a href=\"https://colab.research.google.com/github/GANESHREDDYLANGATI/ICP1_BIG-DATA/blob/main/ICP1.ipynb\" target=\"_parent\"><img src=\"https://colab.research.google.com/assets/colab-badge.svg\" alt=\"Open In Colab\"/></a>"
      ]
    },
    {
      "cell_type": "code",
      "execution_count": null,
      "metadata": {
        "id": "5XVHbQM5X3qm"
      },
      "outputs": [],
      "source": [
        "from google.colab import drive\n",
        "drive.mount('/content/drive')"
      ]
    },
    {
      "cell_type": "code",
      "source": [
        "#5. String Operations\n",
        "\n",
        "user_input = list(input(\"Enter a string: \"))\n",
        "\n",
        "# Delete characters at position 1 and 2\n",
        "del user_input[0:2]\n",
        "\n",
        "# Reverse the list\n",
        "user_input.reverse()\n",
        "\n",
        "# Print the string\n",
        "res = ''.join(user_input)\n",
        "print(\"Final string:\", res)"
      ],
      "metadata": {
        "colab": {
          "base_uri": "https://localhost:8080/"
        },
        "collapsed": true,
        "id": "ivf75wM7YGSb",
        "outputId": "4f1841b5-3402-4ff9-a12c-ee536accad37"
      },
      "execution_count": 4,
      "outputs": [
        {
          "output_type": "stream",
          "name": "stdout",
          "text": [
            "Enter a string: python\n",
            "Final string after deletion and reversal: noht\n"
          ]
        }
      ]
    },
    {
      "cell_type": "code",
      "source": [
        "##  b. Arithmetic Operations\n",
        "\n",
        "# Task b: Perform arithmetic on two numbers\n",
        "num1 = float(input(\"Enter first number: \"))\n",
        "num2 = float(input(\"Enter second number: \"))\n",
        "\n",
        "print(\"Addition:\", num1 + num2)\n",
        "print(\"Subtraction:\", num1 - num2)\n",
        "print(\"Multiplication:\", num1 * num2)\n",
        "print(\"Division:\", num1 / num2 if num2 != 0 else \"Cannot divide by zero\")"
      ],
      "metadata": {
        "id": "lcwKbDPZY1kw"
      },
      "execution_count": null,
      "outputs": []
    }
  ]
}